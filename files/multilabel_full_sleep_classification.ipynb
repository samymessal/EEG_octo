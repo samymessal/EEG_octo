{
  "cells": [
    {
      "cell_type": "markdown",
      "id": "f450898b",
      "metadata": {
        "colab_type": "text",
        "id": "view-in-github"
      },
      "source": [
        "<a href=\"https://colab.research.google.com/github/samymessal/EEG_octo/blob/full_sleep_multi_label_classification/files/ful_sleep_multilabel_calssification.ipynb\" target=\"_parent\"><img src=\"https://colab.research.google.com/assets/colab-badge.svg\" alt=\"Open In Colab\"/></a>"
      ]
    },
    {
      "cell_type": "markdown",
      "id": "783e24cf",
      "metadata": {
        "id": "783e24cf"
      },
      "source": [
        "\n",
        "# Sleep Spindle Study\n",
        "\n",
        "## Building Model\n",
        "\n",
        "In this notebook, we build a model to detect the presence of sleep spindles in the entire EEG recording.\n",
        "        "
      ]
    },
    {
      "cell_type": "code",
      "execution_count": 2,
      "id": "Ij62zkKwkMJ6",
      "metadata": {
        "colab": {
          "base_uri": "https://localhost:8080/"
        },
        "id": "Ij62zkKwkMJ6",
        "outputId": "98c9b36a-8e58-46b0-ac5f-e46034bc5cbc"
      },
      "outputs": [
        {
          "name": "stdout",
          "output_type": "stream",
          "text": [
            "Collecting mne\n",
            "  Downloading mne-1.6.0-py3-none-any.whl (8.3 MB)\n",
            "\u001b[2K     \u001b[90m━━━━━━━━━━━━━━━━━━━━━━━━━━━━━━━━━━━━━━━━\u001b[0m \u001b[32m8.3/8.3 MB\u001b[0m \u001b[31m23.0 MB/s\u001b[0m eta \u001b[36m0:00:00\u001b[0m\n",
            "\u001b[?25hRequirement already satisfied: numpy>=1.21.2 in /usr/local/lib/python3.10/dist-packages (from mne) (1.23.5)\n",
            "Requirement already satisfied: scipy>=1.7.1 in /usr/local/lib/python3.10/dist-packages (from mne) (1.11.4)\n",
            "Requirement already satisfied: matplotlib>=3.5.0 in /usr/local/lib/python3.10/dist-packages (from mne) (3.7.1)\n",
            "Requirement already satisfied: tqdm in /usr/local/lib/python3.10/dist-packages (from mne) (4.66.1)\n",
            "Requirement already satisfied: pooch>=1.5 in /usr/local/lib/python3.10/dist-packages (from mne) (1.8.0)\n",
            "Requirement already satisfied: decorator in /usr/local/lib/python3.10/dist-packages (from mne) (4.4.2)\n",
            "Requirement already satisfied: packaging in /usr/local/lib/python3.10/dist-packages (from mne) (23.2)\n",
            "Requirement already satisfied: jinja2 in /usr/local/lib/python3.10/dist-packages (from mne) (3.1.2)\n",
            "Requirement already satisfied: lazy-loader>=0.3 in /usr/local/lib/python3.10/dist-packages (from mne) (0.3)\n",
            "Requirement already satisfied: defusedxml in /usr/local/lib/python3.10/dist-packages (from mne) (0.7.1)\n",
            "Requirement already satisfied: contourpy>=1.0.1 in /usr/local/lib/python3.10/dist-packages (from matplotlib>=3.5.0->mne) (1.2.0)\n",
            "Requirement already satisfied: cycler>=0.10 in /usr/local/lib/python3.10/dist-packages (from matplotlib>=3.5.0->mne) (0.12.1)\n",
            "Requirement already satisfied: fonttools>=4.22.0 in /usr/local/lib/python3.10/dist-packages (from matplotlib>=3.5.0->mne) (4.46.0)\n",
            "Requirement already satisfied: kiwisolver>=1.0.1 in /usr/local/lib/python3.10/dist-packages (from matplotlib>=3.5.0->mne) (1.4.5)\n",
            "Requirement already satisfied: pillow>=6.2.0 in /usr/local/lib/python3.10/dist-packages (from matplotlib>=3.5.0->mne) (9.4.0)\n",
            "Requirement already satisfied: pyparsing>=2.3.1 in /usr/local/lib/python3.10/dist-packages (from matplotlib>=3.5.0->mne) (3.1.1)\n",
            "Requirement already satisfied: python-dateutil>=2.7 in /usr/local/lib/python3.10/dist-packages (from matplotlib>=3.5.0->mne) (2.8.2)\n",
            "Requirement already satisfied: platformdirs>=2.5.0 in /usr/local/lib/python3.10/dist-packages (from pooch>=1.5->mne) (4.1.0)\n",
            "Requirement already satisfied: requests>=2.19.0 in /usr/local/lib/python3.10/dist-packages (from pooch>=1.5->mne) (2.31.0)\n",
            "Requirement already satisfied: MarkupSafe>=2.0 in /usr/local/lib/python3.10/dist-packages (from jinja2->mne) (2.1.3)\n",
            "Requirement already satisfied: six>=1.5 in /usr/local/lib/python3.10/dist-packages (from python-dateutil>=2.7->matplotlib>=3.5.0->mne) (1.16.0)\n",
            "Requirement already satisfied: charset-normalizer<4,>=2 in /usr/local/lib/python3.10/dist-packages (from requests>=2.19.0->pooch>=1.5->mne) (3.3.2)\n",
            "Requirement already satisfied: idna<4,>=2.5 in /usr/local/lib/python3.10/dist-packages (from requests>=2.19.0->pooch>=1.5->mne) (3.6)\n",
            "Requirement already satisfied: urllib3<3,>=1.21.1 in /usr/local/lib/python3.10/dist-packages (from requests>=2.19.0->pooch>=1.5->mne) (2.0.7)\n",
            "Requirement already satisfied: certifi>=2017.4.17 in /usr/local/lib/python3.10/dist-packages (from requests>=2.19.0->pooch>=1.5->mne) (2023.11.17)\n",
            "Installing collected packages: mne\n",
            "Successfully installed mne-1.6.0\n",
            "Collecting vmdpy\n",
            "  Downloading vmdpy-0.2-py2.py3-none-any.whl (6.5 kB)\n",
            "Requirement already satisfied: numpy in /usr/local/lib/python3.10/dist-packages (from vmdpy) (1.23.5)\n",
            "Installing collected packages: vmdpy\n",
            "Successfully installed vmdpy-0.2\n"
          ]
        }
      ],
      "source": [
        "!pip install mne\n",
        "!pip install vmdpy"
      ]
    },
    {
      "cell_type": "code",
      "execution_count": 3,
      "id": "YlBkcCPRkoy9",
      "metadata": {
        "colab": {
          "base_uri": "https://localhost:8080/"
        },
        "id": "YlBkcCPRkoy9",
        "outputId": "bf1d89b5-175f-4432-9cdb-c6909678daf4"
      },
      "outputs": [
        {
          "name": "stdout",
          "output_type": "stream",
          "text": [
            "Cloning into 'EEG_octo'...\n",
            "remote: Enumerating objects: 250, done.\u001b[K\n",
            "remote: Counting objects: 100% (52/52), done.\u001b[K\n",
            "remote: Compressing objects: 100% (44/44), done.\u001b[K\n",
            "remote: Total 250 (delta 16), reused 39 (delta 8), pack-reused 198\u001b[K\n",
            "Receiving objects: 100% (250/250), 510.39 MiB | 22.58 MiB/s, done.\n",
            "Resolving deltas: 100% (23/23), done.\n",
            "Updating files: 100% (145/145), done.\n"
          ]
        }
      ],
      "source": [
        "!git clone -b full_sleep_multi_label_classification https://github.com/samymessal/EEG_octo"
      ]
    },
    {
      "cell_type": "code",
      "execution_count": 4,
      "id": "-Q9vLtG3oXbh",
      "metadata": {
        "colab": {
          "base_uri": "https://localhost:8080/"
        },
        "id": "-Q9vLtG3oXbh",
        "outputId": "19d534fa-a8a0-45fb-876a-79af3f8a3b99"
      },
      "outputs": [
        {
          "name": "stdout",
          "output_type": "stream",
          "text": [
            "/content\n",
            "feature_extraction.ipynb\n",
            "plot.py\n",
            "Starting_kit_ntx_data_challenge_v0_1_Data_Exploration.ipynb\n",
            "utils.py\n",
            "untitled.py\n",
            "building_model.ipynb\n",
            "data_preparation.ipynb\n",
            "full_recording_sleep_spindles_classification.ipynb\n",
            "preprocess.ipynb\n",
            "ressources\n",
            "preprocess.py\n",
            "ful_sleep_multilabel_calssification.ipynb\n",
            "feature_extraction.py\n",
            "data_preparation.py\n"
          ]
        }
      ],
      "source": [
        "import sys\n",
        "sys.path.append('/content/EEG_octo/files')\n",
        "\n",
        "import os\n",
        "cwd = os.getcwd()\n",
        "\n",
        "print(cwd)\n",
        "items = os.listdir('/content/EEG_octo/files')\n",
        "\n",
        "# Print the list of items\n",
        "for item in items:\n",
        "    print(item)"
      ]
    },
    {
      "cell_type": "markdown",
      "id": "2c44cdde",
      "metadata": {
        "id": "2c44cdde"
      },
      "source": [
        "\n",
        "## Imports\n",
        "\n",
        "We will import the necessary libraries that are needed for processing the data, building the model, and evaluating its performance.\n",
        "        "
      ]
    },
    {
      "cell_type": "code",
      "execution_count": 13,
      "id": "31dceae2",
      "metadata": {
        "id": "31dceae2"
      },
      "outputs": [],
      "source": [
        "import mne\n",
        "import pandas as pd\n",
        "import matplotlib.pyplot as plt\n",
        "import numpy as np\n",
        "from sklearn.model_selection import train_test_split\n",
        "from sklearn.utils.class_weight import compute_class_weight\n",
        "from tensorflow.keras.layers import LSTM, Dense, Dropout\n",
        "from tensorflow.keras.models import Sequential\n",
        "from keras.callbacks import EarlyStopping\n",
        "from sklearn.model_selection import KFold\n",
        "import json\n",
        "import data_preparation\n",
        "import preprocess\n",
        "import keras\n",
        "import tensorflow as tf\n",
        "from tensorflow.keras import backend as K\n",
        "from sklearn.metrics import accuracy_score, precision_score, recall_score, f1_score, confusion_matrix\n",
        "from tensorflow.keras.callbacks import Callback\n",
        "import json\n",
        "from tensorflow.keras.metrics import Metric\n",
        "from tensorflow.keras.layers import Conv1D, MaxPooling1D, Dropout, LSTM, Dense, BatchNormalization, Flatten\n",
        "import tensorflow.keras.layers\n",
        "from tensorflow.keras.models import Sequential\n",
        "from tensorflow.keras import regularizers\n",
        "from data_loading import dataset_from_files"
      ]
    },
    {
      "cell_type": "markdown",
      "id": "f5642274",
      "metadata": {
        "id": "f5642274"
      },
      "source": [
        "### Download data\n",
        "\n",
        "Using the `processed_data` function from the previous step to download our concatenated raw with its correspondent preprocessing and features."
      ]
    },
    {
      "cell_type": "code",
      "execution_count": 6,
      "id": "18bae3b7",
      "metadata": {
        "colab": {
          "base_uri": "https://localhost:8080/"
        },
        "id": "18bae3b7",
        "outputId": "02b72cd9-5966-4183-8dcb-41c0a4d14521"
      },
      "outputs": [
        {
          "name": "stdout",
          "output_type": "stream",
          "text": [
            "Creating RawArray with float64 data, n_channels=1, n_times=4965399\n",
            "    Range : 0 ... 4965398 =      0.000 ... 19861.592 secs\n",
            "Ready.\n",
            "Filtering raw data in 1 contiguous segment\n",
            "Setting up band-pass filter from 8 - 16 Hz\n",
            "\n",
            "FIR filter parameters\n",
            "---------------------\n",
            "Designing a one-pass, zero-phase, non-causal bandpass filter:\n",
            "- Windowed time-domain design (firwin) method\n",
            "- Hamming window with 0.0194 passband ripple and 53 dB stopband attenuation\n",
            "- Lower passband edge: 8.00\n",
            "- Lower transition bandwidth: 2.00 Hz (-6 dB cutoff frequency: 7.00 Hz)\n",
            "- Upper passband edge: 16.00 Hz\n",
            "- Upper transition bandwidth: 4.00 Hz (-6 dB cutoff frequency: 18.00 Hz)\n",
            "- Filter length: 413 samples (1.652 s)\n",
            "\n",
            "Used Annotations descriptions: ['0_0', '0_1', '1_0']\n",
            "Not setting metadata\n",
            "1191 matching events found\n",
            "Applying baseline correction (mode: mean)\n",
            "0 projection items activated\n",
            "Using data from preloaded Raw for 1191 events and 626 original time points ...\n",
            "0 bad epochs dropped\n",
            "epcohs.get_data().shape: (1191, 1, 626)\n",
            "raw_data.shape: (1, 4965399)\n",
            "len(labels_df.index): 1191\n",
            "Using data from preloaded Raw for 1191 events and 626 original time points ...\n",
            "Creating RawArray with float64 data, n_channels=1, n_times=5772730\n",
            "    Range : 0 ... 5772729 =      0.000 ... 23090.916 secs\n",
            "Ready.\n",
            "Filtering raw data in 1 contiguous segment\n",
            "Setting up band-pass filter from 8 - 16 Hz\n",
            "\n",
            "FIR filter parameters\n",
            "---------------------\n",
            "Designing a one-pass, zero-phase, non-causal bandpass filter:\n",
            "- Windowed time-domain design (firwin) method\n",
            "- Hamming window with 0.0194 passband ripple and 53 dB stopband attenuation\n",
            "- Lower passband edge: 8.00\n",
            "- Lower transition bandwidth: 2.00 Hz (-6 dB cutoff frequency: 7.00 Hz)\n",
            "- Upper passband edge: 16.00 Hz\n",
            "- Upper transition bandwidth: 4.00 Hz (-6 dB cutoff frequency: 18.00 Hz)\n",
            "- Filter length: 413 samples (1.652 s)\n",
            "\n",
            "Used Annotations descriptions: ['0_0', '0_1', '1_0']\n",
            "Not setting metadata\n",
            "1050 matching events found\n",
            "Applying baseline correction (mode: mean)\n",
            "0 projection items activated\n",
            "Using data from preloaded Raw for 1050 events and 626 original time points ...\n",
            "0 bad epochs dropped\n",
            "epcohs.get_data().shape: (1050, 1, 626)\n",
            "raw_data.shape: (1, 5772730)\n",
            "len(labels_df.index): 1050\n",
            "Using data from preloaded Raw for 1050 events and 626 original time points ...\n",
            "Using data from preloaded Raw for 1191 events and 626 original time points ...\n",
            "Using data from preloaded Raw for 1050 events and 626 original time points ...\n",
            "Not setting metadata\n",
            "2241 matching events found\n",
            "Applying baseline correction (mode: mean)\n"
          ]
        }
      ],
      "source": [
        "dataset = dataset_from_files(\n",
        "    [\"/content/EEG_octo/dataset/train_S002_night1_hackathon_raw.mat\",\n",
        "    \"/content/EEG_octo/dataset/train_S003_night5_hackathon_raw.mat\"\n",
        "    ],\n",
        "    [\"/content/EEG_octo/dataset/train_S002_labeled.csv\",\n",
        "    \"/content/EEG_octo/dataset/train_S003_labeled.csv\"\n",
        "    ],\n",
        "    target_label=\"SS1\",\n",
        "    frequency_band=(8, 16),\n",
        "    window_size=2.5,\n",
        "    band1=(8, 13),\n",
        "    band2= (13, 16),\n",
        ")"
      ]
    },
    {
      "cell_type": "markdown",
      "id": "aa572fe2",
      "metadata": {
        "id": "aa572fe2"
      },
      "source": [
        "\n",
        "#### Model\n",
        "\n",
        "The chosen model is an LSTM, since we are dealing with timeframes, LSTM are known to deal well with time depending samples. A k-cross validation is implemented, partitioning the data into 5 parts and alterning between the 4 parts for training and the 1 for testing.\n",
        "        "
      ]
    },
    {
      "cell_type": "code",
      "execution_count": 7,
      "id": "d58c9783",
      "metadata": {
        "colab": {
          "base_uri": "https://localhost:8080/"
        },
        "id": "d58c9783",
        "outputId": "9f945ac2-9a78-4303-a5d7-b88b9aca0a1c"
      },
      "outputs": [
        {
          "name": "stdout",
          "output_type": "stream",
          "text": [
            "X.shape: (2241, 1, 626)\n",
            "labels.shape: (2241, 2)\n",
            "shape before reshaping: (2241, 1, 626)\n",
            "shape after reshaping: (2241, 626, 1)\n"
          ]
        }
      ],
      "source": [
        "class F1Score(Metric):\n",
        "    def __init__(self, name='f1_score', **kwargs):\n",
        "        super(F1Score, self).__init__(name=name, **kwargs)\n",
        "        self.precision = tf.keras.metrics.Precision()\n",
        "        self.recall = tf.keras.metrics.Recall()\n",
        "        self.f1_score = self.add_weight(name='f1', initializer='zeros')\n",
        "\n",
        "    def update_state(self, y_true, y_pred, sample_weight=None):\n",
        "        self.precision.update_state(y_true, y_pred, sample_weight)\n",
        "        self.recall.update_state(y_true, y_pred, sample_weight)\n",
        "        p = self.precision.result()\n",
        "        r = self.recall.result()\n",
        "        self.f1_score.assign(2 * ((p * r) / (p + r + tf.keras.backend.epsilon())))\n",
        "\n",
        "    def result(self):\n",
        "        return self.f1_score\n",
        "\n",
        "    def reset_states(self):\n",
        "        self.precision.reset_states()\n",
        "        self.recall.reset_states()\n",
        "        self.f1_score.assign(0)\n",
        "\n",
        "print(\"X.shape:\", X.shape)\n",
        "print(\"labels.shape:\", labels.shape)\n",
        "print(\"shape before reshaping:\", X.shape)\n",
        "X = X.transpose((0, 2, 1))\n",
        "print(\"shape after reshaping:\", X.shape)"
      ]
    },
    {
      "cell_type": "code",
      "execution_count": 11,
      "id": "062e6a1a-72af-4fe7-a1cc-ae81ace437eb",
      "metadata": {
        "id": "062e6a1a-72af-4fe7-a1cc-ae81ace437eb"
      },
      "outputs": [],
      "source": [
        "def create_model():\n",
        "    input_layer = keras.Input(shape=(X.shape[1], X.shape[2]))\n",
        "\n",
        "    x = Conv1D(\n",
        "        filters=32, kernel_size=3, strides=1, activation=\"relu\", padding=\"same\"\n",
        "    )(input_layer)\n",
        "    x = BatchNormalization()(x)\n",
        "    x = Dropout(0.2)(x)\n",
        "\n",
        "    x = Conv1D(\n",
        "        filters=64, kernel_size=3, strides=1, activation=\"relu\", padding=\"same\"\n",
        "    )(x)\n",
        "    x = BatchNormalization()(x)\n",
        "    x = Dropout(0.2)(x)\n",
        "\n",
        "    x = Conv1D(\n",
        "        filters=128, kernel_size=5, strides=1, activation=\"relu\", padding=\"same\"\n",
        "    )(x)\n",
        "    x = BatchNormalization()(x)\n",
        "    x = Dropout(0.2)(x)\n",
        "\n",
        "    # Now you can flatten the output if you haven't applied global pooling before\n",
        "    x = Flatten()(x)\n",
        "\n",
        "    x = Dense(\n",
        "        2048, activation=\"relu\",\n",
        "        kernel_regularizer=regularizers.L1L2(l1=1e-5, l2=1e-4),\n",
        "        bias_regularizer=regularizers.L2(1e-4),\n",
        "    )(x)\n",
        "    x = Dropout(0.2)(x)\n",
        "\n",
        "    x = Dense(\n",
        "        1024,\n",
        "        activation=\"relu\",\n",
        "        kernel_regularizer=regularizers.L1L2(l1=1e-5, l2=1e-4),\n",
        "        bias_regularizer=regularizers.L2(1e-4),\n",
        "    )(x)\n",
        "    x = Dropout(0.2)(x)\n",
        "    x = Dense(\n",
        "        128,\n",
        "        activation=\"relu\",\n",
        "        kernel_regularizer=regularizers.L1L2(l1=1e-5, l2=1e-4),\n",
        "        bias_regularizer=regularizers.L2(1e-4),\n",
        "    )(x)\n",
        "    output_layer = Dense(labels.shape[1], activation=\"sigmoid\")(x)\n",
        "\n",
        "    return keras.Model(inputs=input_layer, outputs=output_layer)\n"
      ]
    },
    {
      "cell_type": "code",
      "execution_count": null,
      "id": "7637f27c-9443-47ce-87c3-879d60a2caa6",
      "metadata": {
        "colab": {
          "base_uri": "https://localhost:8080/",
          "height": 1000
        },
        "id": "7637f27c-9443-47ce-87c3-879d60a2caa6",
        "outputId": "fc84903b-71ef-402d-958d-3960f0494bd2"
      },
      "outputs": [
        {
          "name": "stdout",
          "output_type": "stream",
          "text": [
            "train indices: (1494,)\n",
            "test indices: (747,)\n",
            "Epoch 1/30\n",
            "47/47 [==============================] - 17s 126ms/step - loss: 11.6709 - accuracy: 0.5910 - precision_6: 0.2088 - recall_6: 0.1821 - f1_score: 0.1945 - val_loss: 11.6697 - val_accuracy: 0.6961 - val_precision_6: 0.1915 - val_recall_6: 0.0837 - val_f1_score: 0.1165\n",
            "Epoch 2/30\n",
            "47/47 [==============================] - 5s 114ms/step - loss: 10.8061 - accuracy: 0.6881 - precision_6: 0.4320 - recall_6: 0.1872 - f1_score: 0.2612 - val_loss: 9.8757 - val_accuracy: 0.7644 - val_precision_6: 0.0000e+00 - val_recall_6: 0.0000e+00 - val_f1_score: 0.0000e+00\n",
            "Epoch 3/30\n",
            "47/47 [==============================] - 5s 110ms/step - loss: 8.6852 - accuracy: 0.7336 - precision_6: 0.6590 - recall_6: 0.2923 - f1_score: 0.4050 - val_loss: 7.7718 - val_accuracy: 0.8179 - val_precision_6: 0.0000e+00 - val_recall_6: 0.0000e+00 - val_f1_score: 0.0000e+00\n",
            "Epoch 4/30\n",
            "47/47 [==============================] - 5s 111ms/step - loss: 6.7079 - accuracy: 0.7028 - precision_6: 0.6786 - recall_6: 0.3897 - f1_score: 0.4951 - val_loss: 6.1482 - val_accuracy: 0.8072 - val_precision_6: 0.0000e+00 - val_recall_6: 0.0000e+00 - val_f1_score: 0.0000e+00\n",
            "Epoch 5/30\n",
            "47/47 [==============================] - 5s 109ms/step - loss: 5.2107 - accuracy: 0.7095 - precision_6: 0.7635 - recall_6: 0.4718 - f1_score: 0.5832 - val_loss: 4.8925 - val_accuracy: 0.7871 - val_precision_6: 0.4167 - val_recall_6: 0.0233 - val_f1_score: 0.0441\n",
            "Epoch 6/30\n",
            "47/47 [==============================] - 5s 114ms/step - loss: 4.3530 - accuracy: 0.7001 - precision_6: 0.7368 - recall_6: 0.5385 - f1_score: 0.6222 - val_loss: 4.6504 - val_accuracy: 0.4833 - val_precision_6: 0.2857 - val_recall_6: 0.0186 - val_f1_score: 0.0349\n",
            "Epoch 7/30\n",
            "47/47 [==============================] - 5s 112ms/step - loss: 4.1196 - accuracy: 0.6787 - precision_6: 0.7702 - recall_6: 0.4897 - f1_score: 0.5987 - val_loss: 4.1052 - val_accuracy: 0.3387 - val_precision_6: 0.4211 - val_recall_6: 0.1116 - val_f1_score: 0.1765\n",
            "Epoch 8/30\n",
            "47/47 [==============================] - 5s 110ms/step - loss: 3.7561 - accuracy: 0.6606 - precision_6: 0.7543 - recall_6: 0.5590 - f1_score: 0.6421 - val_loss: 4.0563 - val_accuracy: 0.4779 - val_precision_6: 0.3179 - val_recall_6: 0.2884 - val_f1_score: 0.3024\n",
            "Epoch 9/30\n",
            "47/47 [==============================] - 5s 113ms/step - loss: 3.8014 - accuracy: 0.6580 - precision_6: 0.7458 - recall_6: 0.5641 - f1_score: 0.6423 - val_loss: 3.9518 - val_accuracy: 0.7055 - val_precision_6: 0.3784 - val_recall_6: 0.1302 - val_f1_score: 0.1938\n",
            "Epoch 10/30\n",
            "47/47 [==============================] - 5s 110ms/step - loss: 3.4240 - accuracy: 0.6888 - precision_6: 0.7645 - recall_6: 0.6077 - f1_score: 0.6771 - val_loss: 3.5857 - val_accuracy: 0.5422 - val_precision_6: 0.2933 - val_recall_6: 0.2047 - val_f1_score: 0.2411\n",
            "Epoch 11/30\n",
            "47/47 [==============================] - 5s 113ms/step - loss: 3.2940 - accuracy: 0.7189 - precision_6: 0.7712 - recall_6: 0.6051 - f1_score: 0.6782 - val_loss: 3.8413 - val_accuracy: 0.4525 - val_precision_6: 0.3241 - val_recall_6: 0.3256 - val_f1_score: 0.3248\n",
            "Epoch 12/30\n",
            "47/47 [==============================] - 5s 108ms/step - loss: 3.3005 - accuracy: 0.7142 - precision_6: 0.7840 - recall_6: 0.6795 - f1_score: 0.7280 - val_loss: 3.6226 - val_accuracy: 0.5904 - val_precision_6: 0.3176 - val_recall_6: 0.1256 - val_f1_score: 0.1800\n",
            "Epoch 13/30\n",
            "47/47 [==============================] - 5s 110ms/step - loss: 2.7989 - accuracy: 0.6707 - precision_6: 0.8615 - recall_6: 0.7179 - f1_score: 0.7832 - val_loss: 3.1532 - val_accuracy: 0.4538 - val_precision_6: 0.4104 - val_recall_6: 0.2558 - val_f1_score: 0.3152\n",
            "Epoch 14/30\n",
            "47/47 [==============================] - 5s 108ms/step - loss: 2.7051 - accuracy: 0.6975 - precision_6: 0.8229 - recall_6: 0.7744 - f1_score: 0.7979 - val_loss: 3.1717 - val_accuracy: 0.6426 - val_precision_6: 0.3298 - val_recall_6: 0.2884 - val_f1_score: 0.3077\n",
            "Epoch 15/30\n",
            "47/47 [==============================] - 5s 114ms/step - loss: 2.5745 - accuracy: 0.7055 - precision_6: 0.8497 - recall_6: 0.7974 - f1_score: 0.8228 - val_loss: 3.0679 - val_accuracy: 0.5582 - val_precision_6: 0.3858 - val_recall_6: 0.2279 - val_f1_score: 0.2865\n",
            "Epoch 16/30\n",
            "47/47 [==============================] - 5s 113ms/step - loss: 2.2798 - accuracy: 0.6941 - precision_6: 0.8994 - recall_6: 0.8256 - f1_score: 0.8610 - val_loss: 2.8539 - val_accuracy: 0.5154 - val_precision_6: 0.3765 - val_recall_6: 0.2837 - val_f1_score: 0.3236\n",
            "Epoch 17/30\n",
            "47/47 [==============================] - 5s 113ms/step - loss: 2.3541 - accuracy: 0.6821 - precision_6: 0.8544 - recall_6: 0.8128 - f1_score: 0.8331 - val_loss: 3.0347 - val_accuracy: 0.6145 - val_precision_6: 0.3366 - val_recall_6: 0.1581 - val_f1_score: 0.2152\n",
            "Epoch 18/30\n",
            "47/47 [==============================] - 5s 110ms/step - loss: 2.2872 - accuracy: 0.7309 - precision_6: 0.8886 - recall_6: 0.8179 - f1_score: 0.8518 - val_loss: 2.8672 - val_accuracy: 0.5127 - val_precision_6: 0.3125 - val_recall_6: 0.1628 - val_f1_score: 0.2141\n",
            "Epoch 19/30\n",
            "47/47 [==============================] - 5s 108ms/step - loss: 2.1283 - accuracy: 0.6091 - precision_6: 0.9286 - recall_6: 0.8667 - f1_score: 0.8966 - val_loss: 2.8172 - val_accuracy: 0.4618 - val_precision_6: 0.3333 - val_recall_6: 0.2977 - val_f1_score: 0.3145\n",
            "Epoch 20/30\n",
            "47/47 [==============================] - 5s 112ms/step - loss: 1.8981 - accuracy: 0.5462 - precision_6: 0.9141 - recall_6: 0.9000 - f1_score: 0.9070 - val_loss: 2.5199 - val_accuracy: 0.4391 - val_precision_6: 0.3548 - val_recall_6: 0.3070 - val_f1_score: 0.3292\n",
            "Epoch 21/30\n",
            "47/47 [==============================] - 5s 113ms/step - loss: 1.8138 - accuracy: 0.6285 - precision_6: 0.9363 - recall_6: 0.9051 - f1_score: 0.9205 - val_loss: 2.6586 - val_accuracy: 0.4311 - val_precision_6: 0.3657 - val_recall_6: 0.2279 - val_f1_score: 0.2808\n",
            "Epoch 22/30\n",
            "47/47 [==============================] - 5s 112ms/step - loss: 2.0641 - accuracy: 0.5763 - precision_6: 0.8586 - recall_6: 0.8410 - f1_score: 0.8497 - val_loss: 2.9080 - val_accuracy: 0.5355 - val_precision_6: 0.2951 - val_recall_6: 0.1674 - val_f1_score: 0.2136\n",
            "Epoch 23/30\n",
            "47/47 [==============================] - 5s 115ms/step - loss: 2.0941 - accuracy: 0.6600 - precision_6: 0.8967 - recall_6: 0.8462 - f1_score: 0.8707 - val_loss: 2.6106 - val_accuracy: 0.6787 - val_precision_6: 0.3333 - val_recall_6: 0.2512 - val_f1_score: 0.2865\n",
            "Epoch 24/30\n",
            "47/47 [==============================] - 5s 113ms/step - loss: 1.7100 - accuracy: 0.7129 - precision_6: 0.9453 - recall_6: 0.9308 - f1_score: 0.9380 - val_loss: 2.3364 - val_accuracy: 0.4967 - val_precision_6: 0.3198 - val_recall_6: 0.2558 - val_f1_score: 0.2842\n",
            "Epoch 25/30\n",
            "47/47 [==============================] - 5s 115ms/step - loss: 1.7380 - accuracy: 0.6265 - precision_6: 0.9153 - recall_6: 0.8872 - f1_score: 0.9010 - val_loss: 2.4408 - val_accuracy: 0.5288 - val_precision_6: 0.3590 - val_recall_6: 0.2605 - val_f1_score: 0.3019\n",
            "Epoch 26/30\n",
            "47/47 [==============================] - 5s 115ms/step - loss: 1.5133 - accuracy: 0.6037 - precision_6: 0.9254 - recall_6: 0.9231 - f1_score: 0.9243 - val_loss: 2.1217 - val_accuracy: 0.4163 - val_precision_6: 0.4046 - val_recall_6: 0.2465 - val_f1_score: 0.3064\n",
            "Epoch 27/30\n",
            "47/47 [==============================] - 5s 114ms/step - loss: 1.3274 - accuracy: 0.4873 - precision_6: 0.9530 - recall_6: 0.9359 - f1_score: 0.9444 - val_loss: 1.9240 - val_accuracy: 0.3949 - val_precision_6: 0.4215 - val_recall_6: 0.2372 - val_f1_score: 0.3036\n",
            "Epoch 28/30\n",
            "47/47 [==============================] - 5s 113ms/step - loss: 1.2749 - accuracy: 0.5750 - precision_6: 0.9597 - recall_6: 0.9154 - f1_score: 0.9370 - val_loss: 2.1606 - val_accuracy: 0.4083 - val_precision_6: 0.3252 - val_recall_6: 0.3116 - val_f1_score: 0.3183\n",
            "Epoch 29/30\n",
            "47/47 [==============================] - 5s 113ms/step - loss: 1.2282 - accuracy: 0.5870 - precision_6: 0.9640 - recall_6: 0.9615 - f1_score: 0.9628 - val_loss: 2.0280 - val_accuracy: 0.5060 - val_precision_6: 0.3566 - val_recall_6: 0.2140 - val_f1_score: 0.2674\n",
            "Epoch 30/30\n",
            "47/47 [==============================] - 5s 111ms/step - loss: 1.3174 - accuracy: 0.6452 - precision_6: 0.9409 - recall_6: 0.8974 - f1_score: 0.9186 - val_loss: 2.7065 - val_accuracy: 0.4471 - val_precision_6: 0.3158 - val_recall_6: 0.3628 - val_f1_score: 0.3377\n"
          ]
        },
        {
          "data": {
            "image/png": "[encoded data removed]",
            "text/plain": [
              "<Figure size 640x480 with 1 Axes>"
            ]
          },
          "metadata": {},
          "output_type": "display_data"
        },
        {
          "name": "stdout",
          "output_type": "stream",
          "text": [
            "train indices: (1494,)\n",
            "test indices: (747,)\n",
            "Epoch 1/30\n",
            "47/47 [==============================] - 11s 120ms/step - loss: 11.3463 - accuracy: 0.4224 - precision_8: 0.1723 - recall_8: 0.1139 - f1_score: 0.1371 - val_loss: 11.4903 - val_accuracy: 0.1767 - val_precision_8: 0.0000e+00 - val_recall_8: 0.0000e+00 - val_f1_score: 0.0000e+00\n",
            "Epoch 2/30\n",
            "47/47 [==============================] - 5s 113ms/step - loss: 10.3456 - accuracy: 0.4257 - precision_8: 0.3182 - recall_8: 0.0173 - f1_score: 0.0329 - val_loss: 9.2908 - val_accuracy: 0.1673 - val_precision_8: 0.0000e+00 - val_recall_8: 0.0000e+00 - val_f1_score: 0.0000e+00\n",
            "Epoch 3/30\n",
            "47/47 [==============================] - 5s 110ms/step - loss: 7.9363 - accuracy: 0.3568 - precision_8: 0.5652 - recall_8: 0.0322 - f1_score: 0.0609 - val_loss: 6.8525 - val_accuracy: 0.1673 - val_precision_8: 0.0000e+00 - val_recall_8: 0.0000e+00 - val_f1_score: 0.0000e+00\n",
            "Epoch 4/30\n",
            "47/47 [==============================] - 5s 113ms/step - loss: 5.7970 - accuracy: 0.4598 - precision_8: 0.6458 - recall_8: 0.0767 - f1_score: 0.1372 - val_loss: 5.0773 - val_accuracy: 0.1727 - val_precision_8: 0.7500 - val_recall_8: 0.0149 - val_f1_score: 0.0293\n",
            "Epoch 5/30\n",
            "47/47 [==============================] - 5s 109ms/step - loss: 4.4936 - accuracy: 0.5837 - precision_8: 0.6522 - recall_8: 0.2970 - f1_score: 0.4082 - val_loss: 4.3427 - val_accuracy: 0.2677 - val_precision_8: 0.2500 - val_recall_8: 0.0050 - val_f1_score: 0.0098\n",
            "Epoch 6/30\n",
            "47/47 [==============================] - 5s 115ms/step - loss: 3.8734 - accuracy: 0.5629 - precision_8: 0.6890 - recall_8: 0.3564 - f1_score: 0.4698 - val_loss: 3.7692 - val_accuracy: 0.2731 - val_precision_8: 0.3395 - val_recall_8: 0.2736 - val_f1_score: 0.3030\n",
            "Epoch 7/30\n",
            "47/47 [==============================] - 5s 113ms/step - loss: 3.4082 - accuracy: 0.5602 - precision_8: 0.7047 - recall_8: 0.4431 - f1_score: 0.5441 - val_loss: 3.5906 - val_accuracy: 0.6573 - val_precision_8: 0.2727 - val_recall_8: 0.0448 - val_f1_score: 0.0769\n",
            "Epoch 8/30\n",
            "47/47 [==============================] - 5s 114ms/step - loss: 3.2258 - accuracy: 0.6238 - precision_8: 0.7143 - recall_8: 0.4208 - f1_score: 0.5296 - val_loss: 3.2380 - val_accuracy: 0.3400 - val_precision_8: 0.3488 - val_recall_8: 0.0746 - val_f1_score: 0.1230\n",
            "Epoch 9/30\n",
            "47/47 [==============================] - 5s 109ms/step - loss: 2.9534 - accuracy: 0.5944 - precision_8: 0.7162 - recall_8: 0.5371 - f1_score: 0.6139 - val_loss: 3.2251 - val_accuracy: 0.5087 - val_precision_8: 0.4038 - val_recall_8: 0.1045 - val_f1_score: 0.1660\n",
            "Epoch 10/30\n",
            "47/47 [==============================] - 5s 113ms/step - loss: 2.8571 - accuracy: 0.5944 - precision_8: 0.7230 - recall_8: 0.5297 - f1_score: 0.6114 - val_loss: 3.3267 - val_accuracy: 0.4685 - val_precision_8: 0.3137 - val_recall_8: 0.1592 - val_f1_score: 0.2112\n",
            "Epoch 11/30\n",
            "47/47 [==============================] - 5s 110ms/step - loss: 2.9389 - accuracy: 0.7510 - precision_8: 0.7844 - recall_8: 0.6213 - f1_score: 0.6934 - val_loss: 3.0914 - val_accuracy: 0.5756 - val_precision_8: 0.2994 - val_recall_8: 0.2338 - val_f1_score: 0.2626\n",
            "Epoch 12/30\n",
            "47/47 [==============================] - 5s 108ms/step - loss: 2.7120 - accuracy: 0.6506 - precision_8: 0.7982 - recall_8: 0.6559 - f1_score: 0.7201 - val_loss: 2.9039 - val_accuracy: 0.6386 - val_precision_8: 0.2821 - val_recall_8: 0.1095 - val_f1_score: 0.1577\n",
            "Epoch 13/30\n",
            "47/47 [==============================] - 5s 115ms/step - loss: 2.3328 - accuracy: 0.6727 - precision_8: 0.8348 - recall_8: 0.7129 - f1_score: 0.7690 - val_loss: 2.8519 - val_accuracy: 0.7041 - val_precision_8: 0.2256 - val_recall_8: 0.1493 - val_f1_score: 0.1796\n",
            "Epoch 14/30\n",
            "47/47 [==============================] - 5s 109ms/step - loss: 2.2192 - accuracy: 0.7423 - precision_8: 0.8521 - recall_8: 0.7698 - f1_score: 0.8088 - val_loss: 2.5865 - val_accuracy: 0.6212 - val_precision_8: 0.2650 - val_recall_8: 0.1542 - val_f1_score: 0.1950\n",
            "Epoch 15/30\n",
            "47/47 [==============================] - 5s 113ms/step - loss: 2.2697 - accuracy: 0.6506 - precision_8: 0.8451 - recall_8: 0.7426 - f1_score: 0.7905 - val_loss: 2.9949 - val_accuracy: 0.6519 - val_precision_8: 0.2055 - val_recall_8: 0.1493 - val_f1_score: 0.1729\n",
            "Epoch 16/30\n",
            "47/47 [==============================] - 5s 110ms/step - loss: 2.3720 - accuracy: 0.7095 - precision_8: 0.8708 - recall_8: 0.7673 - f1_score: 0.8158 - val_loss: 2.6833 - val_accuracy: 0.5930 - val_precision_8: 0.2535 - val_recall_8: 0.1791 - val_f1_score: 0.2099\n",
            "Epoch 17/30\n",
            "47/47 [==============================] - 5s 113ms/step - loss: 1.9102 - accuracy: 0.7778 - precision_8: 0.8877 - recall_8: 0.8416 - f1_score: 0.8640 - val_loss: 2.5324 - val_accuracy: 0.6466 - val_precision_8: 0.2880 - val_recall_8: 0.2736 - val_f1_score: 0.2806\n",
            "Epoch 18/30\n",
            "47/47 [==============================] - 5s 115ms/step - loss: 1.7863 - accuracy: 0.8300 - precision_8: 0.9211 - recall_8: 0.8663 - f1_score: 0.8929 - val_loss: 2.5822 - val_accuracy: 0.7403 - val_precision_8: 0.2464 - val_recall_8: 0.1692 - val_f1_score: 0.2006\n",
            "Epoch 19/30\n",
            "47/47 [==============================] - 5s 113ms/step - loss: 1.8013 - accuracy: 0.7831 - precision_8: 0.8837 - recall_8: 0.8465 - f1_score: 0.8647 - val_loss: 2.4673 - val_accuracy: 0.5877 - val_precision_8: 0.2614 - val_recall_8: 0.1990 - val_f1_score: 0.2260\n",
            "Epoch 20/30\n",
            "47/47 [==============================] - 5s 113ms/step - loss: 1.7448 - accuracy: 0.6352 - precision_8: 0.8928 - recall_8: 0.8861 - f1_score: 0.8894 - val_loss: 2.6278 - val_accuracy: 0.4953 - val_precision_8: 0.2446 - val_recall_8: 0.1692 - val_f1_score: 0.2000\n",
            "Epoch 21/30\n",
            "47/47 [==============================] - 5s 109ms/step - loss: 1.6682 - accuracy: 0.7303 - precision_8: 0.9152 - recall_8: 0.8812 - f1_score: 0.8979 - val_loss: 2.4688 - val_accuracy: 0.4886 - val_precision_8: 0.2581 - val_recall_8: 0.2388 - val_f1_score: 0.2481\n",
            "Epoch 22/30\n",
            "47/47 [==============================] - 5s 108ms/step - loss: 1.5962 - accuracy: 0.6693 - precision_8: 0.9138 - recall_8: 0.9183 - f1_score: 0.9160 - val_loss: 2.2715 - val_accuracy: 0.5328 - val_precision_8: 0.2842 - val_recall_8: 0.1343 - val_f1_score: 0.1824\n",
            "Epoch 23/30\n",
            "47/47 [==============================] - 5s 115ms/step - loss: 1.5697 - accuracy: 0.6874 - precision_8: 0.8883 - recall_8: 0.8861 - f1_score: 0.8872 - val_loss: 2.3969 - val_accuracy: 0.5743 - val_precision_8: 0.2727 - val_recall_8: 0.1940 - val_f1_score: 0.2267\n",
            "Epoch 24/30\n",
            "47/47 [==============================] - 5s 108ms/step - loss: 1.6747 - accuracy: 0.7443 - precision_8: 0.8926 - recall_8: 0.8639 - f1_score: 0.8780 - val_loss: 2.2763 - val_accuracy: 0.4926 - val_precision_8: 0.2562 - val_recall_8: 0.1542 - val_f1_score: 0.1925\n",
            "Epoch 25/30\n",
            "47/47 [==============================] - 5s 110ms/step - loss: 1.3678 - accuracy: 0.6198 - precision_8: 0.9538 - recall_8: 0.9208 - f1_score: 0.9370 - val_loss: 1.9842 - val_accuracy: 0.4284 - val_precision_8: 0.2640 - val_recall_8: 0.2338 - val_f1_score: 0.2480\n",
            "Epoch 26/30\n",
            "47/47 [==============================] - 5s 113ms/step - loss: 1.2661 - accuracy: 0.7041 - precision_8: 0.9407 - recall_8: 0.9431 - f1_score: 0.9419 - val_loss: 2.2042 - val_accuracy: 0.6372 - val_precision_8: 0.2216 - val_recall_8: 0.2040 - val_f1_score: 0.2124\n",
            "Epoch 27/30\n",
            "47/47 [==============================] - 5s 113ms/step - loss: 1.4324 - accuracy: 0.6566 - precision_8: 0.9186 - recall_8: 0.8936 - f1_score: 0.9059 - val_loss: 2.4613 - val_accuracy: 0.5194 - val_precision_8: 0.2343 - val_recall_8: 0.2040 - val_f1_score: 0.2181\n",
            "Epoch 28/30\n",
            "47/47 [==============================] - 5s 111ms/step - loss: 1.8067 - accuracy: 0.6533 - precision_8: 0.9016 - recall_8: 0.8614 - f1_score: 0.8810 - val_loss: 2.2492 - val_accuracy: 0.5676 - val_precision_8: 0.3172 - val_recall_8: 0.2289 - val_f1_score: 0.2659\n",
            "Epoch 29/30\n",
            "47/47 [==============================] - 5s 112ms/step - loss: 1.4892 - accuracy: 0.6198 - precision_8: 0.9282 - recall_8: 0.8960 - f1_score: 0.9118 - val_loss: 2.0477 - val_accuracy: 0.5676 - val_precision_8: 0.2950 - val_recall_8: 0.2040 - val_f1_score: 0.2412\n",
            "Epoch 30/30\n",
            "47/47 [==============================] - 5s 114ms/step - loss: 1.2566 - accuracy: 0.7912 - precision_8: 0.9567 - recall_8: 0.9307 - f1_score: 0.9435 - val_loss: 1.8523 - val_accuracy: 0.6238 - val_precision_8: 0.2955 - val_recall_8: 0.1940 - val_f1_score: 0.2342\n"
          ]
        },
        {
          "data": {
            "image/png": "[encoded data removed]",
            "text/plain": [
              "<Figure size 640x480 with 1 Axes>"
            ]
          },
          "metadata": {},
          "output_type": "display_data"
        },
        {
          "name": "stdout",
          "output_type": "stream",
          "text": [
            "train indices: (1494,)\n",
            "test indices: (747,)\n",
            "Epoch 1/30\n"
          ]
        },
        {
          "ename": "ResourceExhaustedError",
          "evalue": "ignored",
          "output_type": "error",
          "traceback": [
            "\u001b[0;31m---------------------------------------------------------------------------\u001b[0m",
            "\u001b[0;31mResourceExhaustedError\u001b[0m                    Traceback (most recent call last)",
            "\u001b[0;32m<ipython-input-14-9671384a84a8>\u001b[0m in \u001b[0;36m<cell line: 2>\u001b[0;34m()\u001b[0m\n\u001b[1;32m     19\u001b[0m \u001b[0;34m\u001b[0m\u001b[0m\n\u001b[1;32m     20\u001b[0m     \u001b[0;31m# Train the model\u001b[0m\u001b[0;34m\u001b[0m\u001b[0;34m\u001b[0m\u001b[0m\n\u001b[0;32m---> 21\u001b[0;31m     history = model.fit(\n\u001b[0m\u001b[1;32m     22\u001b[0m         \u001b[0mX\u001b[0m\u001b[0;34m[\u001b[0m\u001b[0mtrain\u001b[0m\u001b[0;34m]\u001b[0m\u001b[0;34m,\u001b[0m\u001b[0;34m\u001b[0m\u001b[0;34m\u001b[0m\u001b[0m\n\u001b[1;32m     23\u001b[0m         \u001b[0mlabels\u001b[0m\u001b[0;34m[\u001b[0m\u001b[0mtrain\u001b[0m\u001b[0;34m]\u001b[0m\u001b[0;34m,\u001b[0m\u001b[0;34m\u001b[0m\u001b[0;34m\u001b[0m\u001b[0m\n",
            "\u001b[0;32m/usr/local/lib/python3.10/dist-packages/keras/src/utils/traceback_utils.py\u001b[0m in \u001b[0;36merror_handler\u001b[0;34m(*args, **kwargs)\u001b[0m\n\u001b[1;32m     68\u001b[0m             \u001b[0;31m# To get the full stack trace, call:\u001b[0m\u001b[0;34m\u001b[0m\u001b[0;34m\u001b[0m\u001b[0m\n\u001b[1;32m     69\u001b[0m             \u001b[0;31m# `tf.debugging.disable_traceback_filtering()`\u001b[0m\u001b[0;34m\u001b[0m\u001b[0;34m\u001b[0m\u001b[0m\n\u001b[0;32m---> 70\u001b[0;31m             \u001b[0;32mraise\u001b[0m \u001b[0me\u001b[0m\u001b[0;34m.\u001b[0m\u001b[0mwith_traceback\u001b[0m\u001b[0;34m(\u001b[0m\u001b[0mfiltered_tb\u001b[0m\u001b[0;34m)\u001b[0m \u001b[0;32mfrom\u001b[0m \u001b[0;32mNone\u001b[0m\u001b[0;34m\u001b[0m\u001b[0;34m\u001b[0m\u001b[0m\n\u001b[0m\u001b[1;32m     71\u001b[0m         \u001b[0;32mfinally\u001b[0m\u001b[0;34m:\u001b[0m\u001b[0;34m\u001b[0m\u001b[0;34m\u001b[0m\u001b[0m\n\u001b[1;32m     72\u001b[0m             \u001b[0;32mdel\u001b[0m \u001b[0mfiltered_tb\u001b[0m\u001b[0;34m\u001b[0m\u001b[0;34m\u001b[0m\u001b[0m\n",
            "\u001b[0;32m/usr/local/lib/python3.10/dist-packages/tensorflow/python/eager/execute.py\u001b[0m in \u001b[0;36mquick_execute\u001b[0;34m(op_name, num_outputs, inputs, attrs, ctx, name)\u001b[0m\n\u001b[1;32m     51\u001b[0m   \u001b[0;32mtry\u001b[0m\u001b[0;34m:\u001b[0m\u001b[0;34m\u001b[0m\u001b[0;34m\u001b[0m\u001b[0m\n\u001b[1;32m     52\u001b[0m     \u001b[0mctx\u001b[0m\u001b[0;34m.\u001b[0m\u001b[0mensure_initialized\u001b[0m\u001b[0;34m(\u001b[0m\u001b[0;34m)\u001b[0m\u001b[0;34m\u001b[0m\u001b[0;34m\u001b[0m\u001b[0m\n\u001b[0;32m---> 53\u001b[0;31m     tensors = pywrap_tfe.TFE_Py_Execute(ctx._handle, device_name, op_name,\n\u001b[0m\u001b[1;32m     54\u001b[0m                                         inputs, attrs, num_outputs)\n\u001b[1;32m     55\u001b[0m   \u001b[0;32mexcept\u001b[0m \u001b[0mcore\u001b[0m\u001b[0;34m.\u001b[0m\u001b[0m_NotOkStatusException\u001b[0m \u001b[0;32mas\u001b[0m \u001b[0me\u001b[0m\u001b[0;34m:\u001b[0m\u001b[0;34m\u001b[0m\u001b[0;34m\u001b[0m\u001b[0m\n",
            "\u001b[0;31mResourceExhaustedError\u001b[0m: Graph execution error:\n\nDetected at node dense_20/kernel/Regularizer/Abs defined at (most recent call last):\n  File \"/usr/lib/python3.10/runpy.py\", line 196, in _run_module_as_main\n\n  File \"/usr/lib/python3.10/runpy.py\", line 86, in _run_code\n\n  File \"/usr/local/lib/python3.10/dist-packages/colab_kernel_launcher.py\", line 37, in <module>\n\n  File \"/usr/local/lib/python3.10/dist-packages/traitlets/config/application.py\", line 992, in launch_instance\n\n  File \"/usr/local/lib/python3.10/dist-packages/ipykernel/kernelapp.py\", line 619, in start\n\n  File \"/usr/local/lib/python3.10/dist-packages/tornado/platform/asyncio.py\", line 195, in start\n\n  File \"/usr/lib/python3.10/asyncio/base_events.py\", line 603, in run_forever\n\n  File \"/usr/lib/python3.10/asyncio/base_events.py\", line 1909, in _run_once\n\n  File \"/usr/lib/python3.10/asyncio/events.py\", line 80, in _run\n\n  File \"/usr/local/lib/python3.10/dist-packages/tornado/ioloop.py\", line 685, in <lambda>\n\n  File \"/usr/local/lib/python3.10/dist-packages/tornado/ioloop.py\", line 738, in _run_callback\n\n  File \"/usr/local/lib/python3.10/dist-packages/tornado/gen.py\", line 825, in inner\n\n  File \"/usr/local/lib/python3.10/dist-packages/tornado/gen.py\", line 786, in run\n\n  File \"/usr/local/lib/python3.10/dist-packages/ipykernel/kernelbase.py\", line 361, in process_one\n\n  File \"/usr/local/lib/python3.10/dist-packages/tornado/gen.py\", line 234, in wrapper\n\n  File \"/usr/local/lib/python3.10/dist-packages/ipykernel/kernelbase.py\", line 261, in dispatch_shell\n\n  File \"/usr/local/lib/python3.10/dist-packages/tornado/gen.py\", line 234, in wrapper\n\n  File \"/usr/local/lib/python3.10/dist-packages/ipykernel/kernelbase.py\", line 539, in execute_request\n\n  File \"/usr/local/lib/python3.10/dist-packages/tornado/gen.py\", line 234, in wrapper\n\n  File \"/usr/local/lib/python3.10/dist-packages/ipykernel/ipkernel.py\", line 302, in do_execute\n\n  File \"/usr/local/lib/python3.10/dist-packages/ipykernel/zmqshell.py\", line 539, in run_cell\n\n  File \"/usr/local/lib/python3.10/dist-packages/IPython/core/interactiveshell.py\", line 2975, in run_cell\n\n  File \"/usr/local/lib/python3.10/dist-packages/IPython/core/interactiveshell.py\", line 3030, in _run_cell\n\n  File \"/usr/local/lib/python3.10/dist-packages/IPython/core/async_helpers.py\", line 78, in _pseudo_sync_runner\n\n  File \"/usr/local/lib/python3.10/dist-packages/IPython/core/interactiveshell.py\", line 3257, in run_cell_async\n\n  File \"/usr/local/lib/python3.10/dist-packages/IPython/core/interactiveshell.py\", line 3473, in run_ast_nodes\n\n  File \"/usr/local/lib/python3.10/dist-packages/IPython/core/interactiveshell.py\", line 3553, in run_code\n\n  File \"<ipython-input-14-9671384a84a8>\", line 21, in <cell line: 2>\n\n  File \"/usr/local/lib/python3.10/dist-packages/keras/src/utils/traceback_utils.py\", line 65, in error_handler\n\n  File \"/usr/local/lib/python3.10/dist-packages/keras/src/engine/training.py\", line 1807, in fit\n\n  File \"/usr/local/lib/python3.10/dist-packages/keras/src/engine/training.py\", line 1401, in train_function\n\n  File \"/usr/local/lib/python3.10/dist-packages/keras/src/engine/training.py\", line 1384, in step_function\n\n  File \"/usr/local/lib/python3.10/dist-packages/keras/src/engine/training.py\", line 1373, in run_step\n\n  File \"/usr/local/lib/python3.10/dist-packages/keras/src/engine/training.py\", line 1151, in train_step\n\n  File \"/usr/local/lib/python3.10/dist-packages/keras/src/engine/training.py\", line 1210, in compute_loss\n\n  File \"/usr/local/lib/python3.10/dist-packages/keras/src/engine/base_layer.py\", line 1428, in losses\n\n  File \"/usr/local/lib/python3.10/dist-packages/keras/src/engine/base_layer.py\", line 1509, in _tag_callable\n\n  File \"/usr/local/lib/python3.10/dist-packages/keras/src/engine/base_layer.py\", line 2836, in _loss_for_variable\n\n  File \"/usr/local/lib/python3.10/dist-packages/keras/src/regularizers.py\", line 249, in __call__\n\nfailed to allocate memory\n\t [[{{node dense_20/kernel/Regularizer/Abs}}]]\nHint: If you want to see a list of allocated tensors when OOM happens, add report_tensor_allocations_upon_oom to RunOptions for current allocation info. This isn't available when running in Eager mode.\n [Op:__inference_train_function_112965]"
          ]
        }
      ],
      "source": [
        "# kfold = KFold(n_splits=3, shuffle=True)\n",
        "# for fold_no, (train, test) in enumerate(kfold.split(X, labels)):\n",
        "#     print(\"train indices:\", train.shape)\n",
        "#     print(\"test indices:\", test.shape)\n",
        "#     # Define the model architecture\n",
        "#     model = create_model()\n",
        "\n",
        "#     # Compile the model\n",
        "#     model.compile(\n",
        "#         optimizer=keras.optimizers.Adam(),\n",
        "#         loss=\"binary_crossentropy\",\n",
        "#         metrics=[\n",
        "#             'accuracy',\n",
        "#             tf.keras.metrics.Precision(),\n",
        "#             tf.keras.metrics.Recall(),\n",
        "#             F1Score(),\n",
        "#         ]\n",
        "#     )\n",
        "\n",
        "#     # Train the model\n",
        "#     history = model.fit(\n",
        "#         X[train],\n",
        "#         labels[train],\n",
        "#         epochs=30,\n",
        "#         validation_data=(X[test], labels[test]),\n",
        "#     )\n",
        "\n",
        "\n",
        "#     training_f1_scores = history.history['f1_score']\n",
        "#     validation_f1_scores = history.history['val_f1_score']\n",
        "\n",
        "#     plt.plot(training_f1_scores, label='Training F1 Score')\n",
        "#     plt.plot(validation_f1_scores, label='Validation F1 Score')\n",
        "#     plt.xlabel('Epochs')\n",
        "#     plt.ylabel('F1 Score')\n",
        "#     plt.legend()\n",
        "#     plt.show()\n",
        "\n",
        "# Define the model architecture\n",
        "model = create_model()\n",
        "\n",
        "# Compile the model\n",
        "model.compile(\n",
        "    optimizer=keras.optimizers.Adam(),\n",
        "    loss=\"binary_crossentropy\",\n",
        "    metrics=[\n",
        "        'accuracy',\n",
        "        tf.keras.metrics.Precision(),\n",
        "        tf.keras.metrics.Recall(),\n",
        "        F1Score(),\n",
        "    ]\n",
        ")\n",
        "\n",
        "# Train the model\n",
        "history = model.fit(\n",
        "    dataset,\n",
        "    epochs=30\n",
        ")\n",
        "\n",
        "\n",
        "training_f1_scores = history.history['f1_score']\n",
        "validation_f1_scores = history.history['val_f1_score']\n",
        "\n",
        "plt.plot(training_f1_scores, label='Training F1 Score')\n",
        "plt.plot(validation_f1_scores, label='Validation F1 Score')\n",
        "plt.xlabel('Epochs')\n",
        "plt.ylabel('F1 Score')\n",
        "plt.legend()\n",
        "plt.show()"
      ]
    }
  ],
  "metadata": {
    "accelerator": "GPU",
    "colab": {
      "gpuType": "T4",
      "include_colab_link": true,
      "provenance": []
    },
    "kernelspec": {
      "display_name": "Python 3",
      "name": "python3"
    },
    "language_info": {
      "codemirror_mode": {
        "name": "ipython",
        "version": 3
      },
      "file_extension": ".py",
      "mimetype": "text/x-python",
      "name": "python",
      "nbconvert_exporter": "python",
      "pygments_lexer": "ipython3",
      "version": "3.10.13"
    }
  },
  "nbformat": 4,
  "nbformat_minor": 5
}
