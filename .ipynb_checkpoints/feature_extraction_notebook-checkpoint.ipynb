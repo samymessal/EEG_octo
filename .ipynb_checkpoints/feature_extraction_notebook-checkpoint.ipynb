{
 "cells": [
  {
   "cell_type": "markdown",
   "id": "6fe947e0",
   "metadata": {},
   "source": [
    "# Sleep Spindle Study\n",
    "\n",
    "## Feature extraction\n",
    "\n",
    "The VDM applied in the preprocess phase can be used to select features from the raw eeg too.\n"
   ]
  },
  {
   "cell_type": "markdown",
   "id": "4d8c4592",
   "metadata": {},
   "source": [
    "\n",
    "### Power Spectral Density (PSD) Features\n",
    "\n",
    "The `extract_psd_features` function computes the average power of the EEG signal in a specified frequency band using Welch's method. Power Spectral Density represents the power distribution over different frequencies and is commonly used in EEG analysis to study the energy of brain waves within different frequency ranges.\n",
    "\n",
    "- `epochs`: The Epochs object from MNE, which contains the EEG signal data.\n",
    "- `fmin`: The minimum frequency range for feature extraction.\n",
    "- `fmax`: The maximum frequency range for feature extraction.\n",
    "\n",
    "With these parameters, the PSD of each epoch is calculated, filtered by the desired frequency band, and the average is taken as the feature value. This function is valuable for analyzing brain activity associated with different states, such as rest, cognitive tasks, or sleep stages.\n"
   ]
  },
  {
   "cell_type": "code",
   "execution_count": null,
   "id": "c6b3811e",
   "metadata": {},
   "outputs": [],
   "source": [
    "\n",
    "import numpy as np\n",
    "from scipy.signal import welch\n",
    "\n",
    "def extract_psd_features(epochs, fmin, fmax):\n",
    "    # Initialize an empty list to store PSD feature values\n",
    "    features = []\n",
    "    # Retrieve the sampling frequency from the epochs info structure\n",
    "    sfreq = epochs.info['sfreq']\n",
    "    # Iterate over each epoch within the input data\n",
    "    for epoch in epochs.get_data():\n",
    "        # Calculate the Power Spectral Density of the epoch using Welch's method\n",
    "        f, psd = welch(epoch.squeeze(), sfreq, nperseg=int(sfreq*2))\n",
    "        # Filter the frequencies to extract power in the band of interest\n",
    "        idx_band = np.logical_and(f >= fmin, f <= fmax)\n",
    "        psd_band = psd[idx_band]\n",
    "        # Calculate the average power in the band and append it to the features list\n",
    "        features.append(psd_band.mean())\n",
    "    return np.array(features)\n"
   ]
  },
  {
   "cell_type": "markdown",
   "id": "24f8500e",
   "metadata": {},
   "source": [
    "\n",
    "### Band Power Ratio Feature\n",
    "\n",
    "The `extract_bp_feature` function calculates the ratio of signal power between two frequency bands. It's a feature indicative of the relative expression of brainwave activity across different frequencies and can be used to differentiate between physiological or cognitive states.\n",
    "\n",
    "- `epochs`: The Epochs object containing the EEG signal data.\n",
    "- `band1`: A tuple representing the frequency range of the first band.\n",
    "- `band2`: A tuple representing the frequency range of the second band.\n",
    "\n",
    "For each epoch, the power within each frequency band is calculated, and their ratio is computed. The power ratio is used to investigate aspects like engagement, relaxation, or changes in wakefulness or attention levels.\n"
   ]
  },
  {
   "cell_type": "code",
   "execution_count": null,
   "id": "3e0a70d3",
   "metadata": {},
   "outputs": [],
   "source": [
    "\n",
    "from scipy.signal import welch\n",
    "\n",
    "def extract_bp_feature(epochs, band1, band2):\n",
    "    power_ratios = []\n",
    "    sfreq = epochs.info['sfreq']\n",
    "\n",
    "    for epoch in epochs.get_data():\n",
    "        f, psd = welch(epoch.squeeze(), sfreq, nperseg=int(sfreq*2))\n",
    "        # Calculate power in the designated frequency bands\n",
    "        band1_power = psd[(f >= band1[0]) & (f <= band1[1])].mean()\n",
    "        band2_power = psd[(f >= band2[0]) & (f <= band2[1])].mean()\n",
    "        ratio = band1_power / band2_power\n",
    "        power_ratios.append(ratio)\n",
    "    return np.array(power_ratios)\n"
   ]
  },
  {
   "cell_type": "markdown",
   "id": "e5dc9b01",
   "metadata": {},
   "source": [
    "\n",
    "### Continuous Wavelet Transform (CWT) Features\n",
    "\n",
    "The Continuous Wavelet Transform is a time-frequency analysis tool that allows examining the EEG signal at different frequencies and times. Unlike the Fourier Transform, the wavelet transform maintains temporal information, making it especially useful for non-stationary signals like EEG.\n",
    "\n",
    "- `epochs`: The Epochs object containing the EEG data.\n",
    "- `fmin`, `fmax`: The minimum and maximum frequency range of interest.\n",
    "- `wavelet`: The type of mother wavelet used in CWT.\n",
    "\n",
    "The `extract_cwt_features` function computes the wavelet transform of EEG signals using the specified scales. The scales are calculated to capture the desired frequency range using the `calculate_scales` function.\n"
   ]
  },
  {
   "cell_type": "code",
   "execution_count": null,
   "id": "dc160d07",
   "metadata": {},
   "outputs": [],
   "source": [
    "\n",
    "import numpy as np\n",
    "import pywt\n",
    "\n",
    "def calculate_scales(freq_min, freq_max, fs, wavelet_center_frequency=6):\n",
    "    scale_min = wavelet_center_frequency * fs / freq_max\n",
    "    scale_max = wavelet_center_frequency * fs / freq_min\n",
    "\n",
    "    scales = np.arange(scale_min, scale_max)\n",
    "    return scales\n",
    "\n",
    "def extract_cwt_features(epochs, fmin, fmax, wavelet='morl'):\n",
    "    scales = calculate_scales(fmin, fmax, epochs.info['sfreq'])\n",
    "    eeg_data = epochs.get_data()\n",
    "    num_epochs, _, signal_length = eeg_data.shape\n",
    "    num_features = len(scales)\n",
    "    features = np.zeros((num_epochs, num_features, signal_length))\n",
    "\n",
    "    for epoch_idx in range(num_epochs):\n",
    "        signal = eeg_data[epoch_idx, 0, :]\n",
    "        coefficients, _ = pywt.cwt(signal, scales, wavelet=wavelet)\n",
    "        features[epoch_idx, :, :] = coefficients\n",
    "\n",
    "    return features\n"
   ]
  }
 ],
 "metadata": {
  "language_info": {
   "name": "python"
  }
 },
 "nbformat": 4,
 "nbformat_minor": 5
}
